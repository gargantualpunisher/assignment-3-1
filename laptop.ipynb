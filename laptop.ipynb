{
 "cells": [
  {
   "cell_type": "code",
   "execution_count": 27,
   "id": "f22a1400",
   "metadata": {},
   "outputs": [],
   "source": [
    "import selenium\n",
    "import pandas as pd\n",
    "from selenium import webdriver\n",
    "import warnings\n",
    "warnings.filterwarnings('ignore')\n",
    "from selenium.common.exceptions import StaleElementReferenceException, NoSuchElementException\n",
    "from selenium.webdriver.common.by import By\n",
    "import time\n",
    "from selenium.webdriver.chrome.service import Service"
   ]
  },
  {
   "cell_type": "code",
   "execution_count": 29,
   "id": "d7fcf073",
   "metadata": {},
   "outputs": [],
   "source": [
    "drivers = webdriver.Chrome(r\"E:\\New folder\\chromedriver_win32\\chromedriver.exe\")\n",
    "\n",
    "drivers.get('https://www.digit.in/')"
   ]
  },
  {
   "cell_type": "code",
   "execution_count": 32,
   "id": "0fd0ad77",
   "metadata": {},
   "outputs": [],
   "source": [
    "button = drivers.find_element(By.XPATH, \"/html/body/div[2]/div/ul/li[3]/a\")\n",
    "button.click()\n",
    "\n",
    "time.sleep(5)\n",
    "\n",
    "button = drivers.find_element(By.XPATH, \"/html/body/div[2]/div/ul/li[3]/div/div/div[2]/div/ul[2]/li[1]/a\")\n",
    "button.click()\n",
    "\n"
   ]
  },
  {
   "cell_type": "code",
   "execution_count": 34,
   "id": "36967eff",
   "metadata": {},
   "outputs": [
    {
     "data": {
      "text/plain": [
       "['MSI Titan GT77-12UHS',\n",
       " 'Alienware X17 R2',\n",
       " 'Acer Predator Triton 500 SE PT516-52s',\n",
       " 'Omen By HP (16-B1371TX)',\n",
       " 'Acer Predator Helios 300 AN515-45',\n",
       " 'MSI Delta 15 (A5EFK-083IN)',\n",
       " 'Omen By HP (16-C0141AX)',\n",
       " 'Lenovo Legion 5i Pro (82RF00MGIN)',\n",
       " 'Alienware M15 R5 Ryzen Edition Icc-C780001win',\n",
       " 'Lenovo Slim 7 Gen 6 (82K8002JIN)']"
      ]
     },
     "execution_count": 34,
     "metadata": {},
     "output_type": "execute_result"
    }
   ],
   "source": [
    "Title =[]\n",
    "\n",
    "title = drivers.find_elements(By.TAG_NAME, \"h3\")\n",
    "\n",
    "for i in title:\n",
    "    Title.append(i.text)\n",
    "    \n",
    "Title \n"
   ]
  },
  {
   "cell_type": "code",
   "execution_count": 35,
   "id": "f3943da3",
   "metadata": {},
   "outputs": [
    {
     "data": {
      "text/plain": [
       "['Windows 11 Home OS\\n17.3\" (3840 x 2160) Display\\n12th Gen Intel Core i9-12900HX | NA Processor\\n2 TB SSD/64 GB DDR5 Memory\\nFULL SPECS\\nOther MSI Laptops',\n",
       " 'Windows 11 Home OS\\n17.3\" (1920 x 1080) Display\\n12th Gen Intel Core i9-12900H | 5 GHz Processor\\n1 TB SSD/32 GB DDR5 Memory\\n₹ 389,990\\nBUY NOW\\nFULL SPECS\\nOther Dell Laptops',\n",
       " 'Windows 11 OS\\n16\" (2560 x 1600) Display\\n12th Gen Intel Core i7-12700H | 3.5 GHz Processor\\n2 TB SSD/32 GB DDR5 Memory\\n₹ 229,990\\nBUY NOW\\nFULL SPECS\\nOther Acer Laptops',\n",
       " 'Windows 11 Home OS\\n16.1\" (2560 x 1440) Display\\n12th Gen Intel Core i7-12700H | 4.7 GHz Processor\\n1 TB SSD/8 GB DDR5 Memory\\n₹ 176,490\\nBUY NOW\\nFULL SPECS\\nOther HP Laptops',\n",
       " 'Windows 11 Home OS\\n15.6\" (2560 x 1440) Display\\nAMD Ryzen 9-5900HX | NA Processor\\n512 GB SSD/16 GB DDR4 Memory\\nFULL SPECS\\nOther Acer Laptops',\n",
       " 'Windows 11 Home OS\\n15.6\" (1920 x 1080) Display\\nAMD 5th Gen Ryzen 9-5900HX | 3.3GHz Processor\\n1 TB SSD/16 GBGB DDR4 Memory\\nFULL SPECS\\nOther MSI Laptops',\n",
       " 'Windows 11 Home OS\\n16.1\" (2560 x 1440) Display\\nAMD Ryzen™ 9 5900HX | 3.3 GHz Processor\\n1 TB NVMe/16 GB DDR4 Memory\\n₹ 124,990\\nBUY NOW\\nFULL SPECS\\nOther HP Laptops',\n",
       " 'Windows 11 Home OS\\n16\" (2560 x 1600) Display\\n12th Gen Intel Core i7-12700H | 2.3 GHz Processor\\n1 TB SSD/16 GB DDR5 Memory\\n₹ 167,990\\nBUY NOW\\nFULL SPECS\\nOther Lenovo Laptops',\n",
       " 'Windows 11 Home OS\\n15.6\" (1920 x 1080) Display\\nAMD Ryzen R7-5800H | 4.40 GHz Processor\\n512 GB SSD/16 GB DDR4 Memory\\n₹ 174,000\\nBUY NOW\\nFULL SPECS\\nOther Dell Laptops',\n",
       " 'Windows 11 Home OS\\n15.6 MP | NA Display\\nLenovo Ryzen 7-5800H | 3.2 GHz Processor\\n1 TB SSD/16 GB DDR4 Memory\\n₹ 131,990\\nBUY NOW\\nFULL SPECS\\nOther Lenovo Laptops']"
      ]
     },
     "execution_count": 35,
     "metadata": {},
     "output_type": "execute_result"
    }
   ],
   "source": [
    "Detail =[]\n",
    "\n",
    "title1 = drivers.find_elements(By.CLASS_NAME, \"product-detail\")\n",
    "\n",
    "for i in title1:\n",
    "    Detail.append(i.text)\n",
    "    \n",
    "Detail"
   ]
  },
  {
   "cell_type": "code",
   "execution_count": null,
   "id": "9eca2284",
   "metadata": {},
   "outputs": [],
   "source": []
  },
  {
   "cell_type": "code",
   "execution_count": 40,
   "id": "f3cd00b5",
   "metadata": {},
   "outputs": [
    {
     "data": {
      "text/plain": [
       "['Windows 11 ',\n",
       " 'Windows 11 ',\n",
       " 'Windows 11 ',\n",
       " 'Windows 11 ',\n",
       " 'Windows 11 ',\n",
       " 'Windows 11 ',\n",
       " 'Windows 11 ',\n",
       " 'Windows 11 ',\n",
       " 'Windows 11 ',\n",
       " 'Windows 11 ']"
      ]
     },
     "execution_count": 40,
     "metadata": {},
     "output_type": "execute_result"
    }
   ],
   "source": [
    "Window=[]\n",
    "\n",
    "for i in Detail:\n",
    "    e = slice(0,11)\n",
    "    Window.append(i[e])\n",
    "Window"
   ]
  },
  {
   "cell_type": "code",
   "execution_count": 63,
   "id": "e7434d06",
   "metadata": {},
   "outputs": [
    {
     "data": {
      "text/plain": [
       "['3840 x 2160) ',\n",
       " '1920 x 1080) ',\n",
       " '1600) Display',\n",
       " '2560 x 1440) ',\n",
       " '2560 x 1440) ',\n",
       " '1920 x 1080) ',\n",
       " '2560 x 1440) ',\n",
       " '60 x 1600) Di',\n",
       " '1920 x 1080) ',\n",
       " ' | NA Display']"
      ]
     },
     "execution_count": 63,
     "metadata": {},
     "output_type": "execute_result"
    }
   ],
   "source": [
    "Screen=[]\n",
    "\n",
    "for i in Detail:\n",
    "    e = slice(26,39)\n",
    "    Screen.append(i[e])\n",
    "Screen"
   ]
  },
  {
   "cell_type": "code",
   "execution_count": 67,
   "id": "e1d582f5",
   "metadata": {},
   "outputs": [
    {
     "data": {
      "text/plain": [
       "['12th Gen Intel Core i9-12900HX | NA Processor',\n",
       " '12th Gen Intel Core i9-12900H | 5 GHz Process',\n",
       " 'n Intel Core i7-12700H | 3.5 GHz Processor\\n2 ',\n",
       " '12th Gen Intel Core i7-12700H | 4.7 GHz Proce',\n",
       " 'AMD Ryzen 9-5900HX | NA Processor\\n512 GB SSD/',\n",
       " 'AMD 5th Gen Ryzen 9-5900HX | 3.3GHz Processor',\n",
       " 'AMD Ryzen™ 9 5900HX | 3.3 GHz Processor\\n1 TB ',\n",
       " 'th Gen Intel Core i7-12700H | 2.3 GHz Process',\n",
       " 'AMD Ryzen R7-5800H | 4.40 GHz Processor\\n512 G',\n",
       " 'Ryzen 7-5800H | 3.2 GHz Processor\\n1 TB SSD/16']"
      ]
     },
     "execution_count": 67,
     "metadata": {},
     "output_type": "execute_result"
    }
   ],
   "source": [
    "Processor=[]\n",
    "\n",
    "for i in Detail:\n",
    "    e = slice(47,92)\n",
    "    Processor.append(i[e])\n",
    "Processor"
   ]
  },
  {
   "cell_type": "code",
   "execution_count": 68,
   "id": "38e24c60",
   "metadata": {},
   "outputs": [
    {
     "data": {
      "text/plain": [
       "['B SSD/64 GB DDR5 Me',\n",
       " ' TB SSD/32 GB DDR5 ',\n",
       " 'SD/32 GB DDR5 Memor',\n",
       " '\\n1 TB SSD/8 GB DDR5',\n",
       " 'B DDR4 Memory\\nFULL ',\n",
       " 'B SSD/16 GBGB DDR4 ',\n",
       " '/16 GB DDR4 Memory\\n',\n",
       " ' TB SSD/16 GB DDR5 ',\n",
       " 'D/16 GB DDR4 Memory',\n",
       " 'DDR4 Memory\\n₹ 131,9']"
      ]
     },
     "execution_count": 68,
     "metadata": {},
     "output_type": "execute_result"
    }
   ],
   "source": [
    "Ram=[]\n",
    "\n",
    "for i in Detail:\n",
    "    e = slice(96,115)\n",
    "    Ram.append(i[e])\n",
    "Ram"
   ]
  },
  {
   "cell_type": "code",
   "execution_count": null,
   "id": "807cecb0",
   "metadata": {},
   "outputs": [],
   "source": []
  },
  {
   "cell_type": "code",
   "execution_count": 56,
   "id": "c7fc7b82",
   "metadata": {},
   "outputs": [
    {
     "data": {
      "text/plain": [
       "['N/A',\n",
       " '₹ 389,990',\n",
       " '₹ 229,990',\n",
       " '₹ 176,490',\n",
       " '₹ 172,999',\n",
       " '₹ 188,990',\n",
       " '₹ 124,990',\n",
       " '₹ 167,990',\n",
       " '₹ 174,000',\n",
       " '₹ 131,990']"
      ]
     },
     "execution_count": 56,
     "metadata": {},
     "output_type": "execute_result"
    }
   ],
   "source": [
    "Price =[]\n",
    "\n",
    "price = drivers.find_elements(By.XPATH, '//td[@class=\"smprice\"]')\n",
    "\n",
    "for i in price:\n",
    "    Price.append(i.text)\n",
    "Price"
   ]
  },
  {
   "cell_type": "code",
   "execution_count": 69,
   "id": "22aa440e",
   "metadata": {},
   "outputs": [],
   "source": [
    "final = pd.DataFrame()\n",
    "\n",
    "final['Title']=Title\n",
    "final['Price']=Price\n",
    "final['Window']=Window\n",
    "final['Screen']=Screen\n",
    "final['Processor']=Processor\n",
    "final['Ram']=Ram"
   ]
  },
  {
   "cell_type": "code",
   "execution_count": 70,
   "id": "2ffe95a5",
   "metadata": {},
   "outputs": [
    {
     "data": {
      "text/html": [
       "<div>\n",
       "<style scoped>\n",
       "    .dataframe tbody tr th:only-of-type {\n",
       "        vertical-align: middle;\n",
       "    }\n",
       "\n",
       "    .dataframe tbody tr th {\n",
       "        vertical-align: top;\n",
       "    }\n",
       "\n",
       "    .dataframe thead th {\n",
       "        text-align: right;\n",
       "    }\n",
       "</style>\n",
       "<table border=\"1\" class=\"dataframe\">\n",
       "  <thead>\n",
       "    <tr style=\"text-align: right;\">\n",
       "      <th></th>\n",
       "      <th>Title</th>\n",
       "      <th>Price</th>\n",
       "      <th>Window</th>\n",
       "      <th>Screen</th>\n",
       "      <th>Processor</th>\n",
       "      <th>Ram</th>\n",
       "    </tr>\n",
       "  </thead>\n",
       "  <tbody>\n",
       "    <tr>\n",
       "      <th>0</th>\n",
       "      <td>MSI Titan GT77-12UHS</td>\n",
       "      <td>N/A</td>\n",
       "      <td>Windows 11</td>\n",
       "      <td>3840 x 2160)</td>\n",
       "      <td>12th Gen Intel Core i9-12900HX | NA Processor</td>\n",
       "      <td>B SSD/64 GB DDR5 Me</td>\n",
       "    </tr>\n",
       "    <tr>\n",
       "      <th>1</th>\n",
       "      <td>Alienware X17 R2</td>\n",
       "      <td>₹ 389,990</td>\n",
       "      <td>Windows 11</td>\n",
       "      <td>1920 x 1080)</td>\n",
       "      <td>12th Gen Intel Core i9-12900H | 5 GHz Process</td>\n",
       "      <td>TB SSD/32 GB DDR5</td>\n",
       "    </tr>\n",
       "    <tr>\n",
       "      <th>2</th>\n",
       "      <td>Acer Predator Triton 500 SE PT516-52s</td>\n",
       "      <td>₹ 229,990</td>\n",
       "      <td>Windows 11</td>\n",
       "      <td>1600) Display</td>\n",
       "      <td>n Intel Core i7-12700H | 3.5 GHz Processor\\n2</td>\n",
       "      <td>SD/32 GB DDR5 Memor</td>\n",
       "    </tr>\n",
       "    <tr>\n",
       "      <th>3</th>\n",
       "      <td>Omen By HP (16-B1371TX)</td>\n",
       "      <td>₹ 176,490</td>\n",
       "      <td>Windows 11</td>\n",
       "      <td>2560 x 1440)</td>\n",
       "      <td>12th Gen Intel Core i7-12700H | 4.7 GHz Proce</td>\n",
       "      <td>\\n1 TB SSD/8 GB DDR5</td>\n",
       "    </tr>\n",
       "    <tr>\n",
       "      <th>4</th>\n",
       "      <td>Acer Predator Helios 300 AN515-45</td>\n",
       "      <td>₹ 172,999</td>\n",
       "      <td>Windows 11</td>\n",
       "      <td>2560 x 1440)</td>\n",
       "      <td>AMD Ryzen 9-5900HX | NA Processor\\n512 GB SSD/</td>\n",
       "      <td>B DDR4 Memory\\nFULL</td>\n",
       "    </tr>\n",
       "    <tr>\n",
       "      <th>5</th>\n",
       "      <td>MSI Delta 15 (A5EFK-083IN)</td>\n",
       "      <td>₹ 188,990</td>\n",
       "      <td>Windows 11</td>\n",
       "      <td>1920 x 1080)</td>\n",
       "      <td>AMD 5th Gen Ryzen 9-5900HX | 3.3GHz Processor</td>\n",
       "      <td>B SSD/16 GBGB DDR4</td>\n",
       "    </tr>\n",
       "    <tr>\n",
       "      <th>6</th>\n",
       "      <td>Omen By HP (16-C0141AX)</td>\n",
       "      <td>₹ 124,990</td>\n",
       "      <td>Windows 11</td>\n",
       "      <td>2560 x 1440)</td>\n",
       "      <td>AMD Ryzen™ 9 5900HX | 3.3 GHz Processor\\n1 TB</td>\n",
       "      <td>/16 GB DDR4 Memory\\n</td>\n",
       "    </tr>\n",
       "    <tr>\n",
       "      <th>7</th>\n",
       "      <td>Lenovo Legion 5i Pro (82RF00MGIN)</td>\n",
       "      <td>₹ 167,990</td>\n",
       "      <td>Windows 11</td>\n",
       "      <td>60 x 1600) Di</td>\n",
       "      <td>th Gen Intel Core i7-12700H | 2.3 GHz Process</td>\n",
       "      <td>TB SSD/16 GB DDR5</td>\n",
       "    </tr>\n",
       "    <tr>\n",
       "      <th>8</th>\n",
       "      <td>Alienware M15 R5 Ryzen Edition Icc-C780001win</td>\n",
       "      <td>₹ 174,000</td>\n",
       "      <td>Windows 11</td>\n",
       "      <td>1920 x 1080)</td>\n",
       "      <td>AMD Ryzen R7-5800H | 4.40 GHz Processor\\n512 G</td>\n",
       "      <td>D/16 GB DDR4 Memory</td>\n",
       "    </tr>\n",
       "    <tr>\n",
       "      <th>9</th>\n",
       "      <td>Lenovo Slim 7 Gen 6 (82K8002JIN)</td>\n",
       "      <td>₹ 131,990</td>\n",
       "      <td>Windows 11</td>\n",
       "      <td>| NA Display</td>\n",
       "      <td>Ryzen 7-5800H | 3.2 GHz Processor\\n1 TB SSD/16</td>\n",
       "      <td>DDR4 Memory\\n₹ 131,9</td>\n",
       "    </tr>\n",
       "  </tbody>\n",
       "</table>\n",
       "</div>"
      ],
      "text/plain": [
       "                                           Title      Price       Window  \\\n",
       "0                           MSI Titan GT77-12UHS        N/A  Windows 11    \n",
       "1                               Alienware X17 R2  ₹ 389,990  Windows 11    \n",
       "2          Acer Predator Triton 500 SE PT516-52s  ₹ 229,990  Windows 11    \n",
       "3                        Omen By HP (16-B1371TX)  ₹ 176,490  Windows 11    \n",
       "4              Acer Predator Helios 300 AN515-45  ₹ 172,999  Windows 11    \n",
       "5                     MSI Delta 15 (A5EFK-083IN)  ₹ 188,990  Windows 11    \n",
       "6                        Omen By HP (16-C0141AX)  ₹ 124,990  Windows 11    \n",
       "7              Lenovo Legion 5i Pro (82RF00MGIN)  ₹ 167,990  Windows 11    \n",
       "8  Alienware M15 R5 Ryzen Edition Icc-C780001win  ₹ 174,000  Windows 11    \n",
       "9               Lenovo Slim 7 Gen 6 (82K8002JIN)  ₹ 131,990  Windows 11    \n",
       "\n",
       "          Screen                                       Processor  \\\n",
       "0  3840 x 2160)    12th Gen Intel Core i9-12900HX | NA Processor   \n",
       "1  1920 x 1080)    12th Gen Intel Core i9-12900H | 5 GHz Process   \n",
       "2  1600) Display  n Intel Core i7-12700H | 3.5 GHz Processor\\n2    \n",
       "3  2560 x 1440)    12th Gen Intel Core i7-12700H | 4.7 GHz Proce   \n",
       "4  2560 x 1440)   AMD Ryzen 9-5900HX | NA Processor\\n512 GB SSD/   \n",
       "5  1920 x 1080)    AMD 5th Gen Ryzen 9-5900HX | 3.3GHz Processor   \n",
       "6  2560 x 1440)   AMD Ryzen™ 9 5900HX | 3.3 GHz Processor\\n1 TB    \n",
       "7  60 x 1600) Di   th Gen Intel Core i7-12700H | 2.3 GHz Process   \n",
       "8  1920 x 1080)   AMD Ryzen R7-5800H | 4.40 GHz Processor\\n512 G   \n",
       "9   | NA Display  Ryzen 7-5800H | 3.2 GHz Processor\\n1 TB SSD/16   \n",
       "\n",
       "                    Ram  \n",
       "0   B SSD/64 GB DDR5 Me  \n",
       "1    TB SSD/32 GB DDR5   \n",
       "2   SD/32 GB DDR5 Memor  \n",
       "3  \\n1 TB SSD/8 GB DDR5  \n",
       "4  B DDR4 Memory\\nFULL   \n",
       "5   B SSD/16 GBGB DDR4   \n",
       "6  /16 GB DDR4 Memory\\n  \n",
       "7    TB SSD/16 GB DDR5   \n",
       "8   D/16 GB DDR4 Memory  \n",
       "9  DDR4 Memory\\n₹ 131,9  "
      ]
     },
     "execution_count": 70,
     "metadata": {},
     "output_type": "execute_result"
    }
   ],
   "source": [
    "final"
   ]
  },
  {
   "cell_type": "code",
   "execution_count": null,
   "id": "ef0bf00d",
   "metadata": {},
   "outputs": [],
   "source": []
  }
 ],
 "metadata": {
  "kernelspec": {
   "display_name": "Python 3 (ipykernel)",
   "language": "python",
   "name": "python3"
  },
  "language_info": {
   "codemirror_mode": {
    "name": "ipython",
    "version": 3
   },
   "file_extension": ".py",
   "mimetype": "text/x-python",
   "name": "python",
   "nbconvert_exporter": "python",
   "pygments_lexer": "ipython3",
   "version": "3.9.13"
  }
 },
 "nbformat": 4,
 "nbformat_minor": 5
}
