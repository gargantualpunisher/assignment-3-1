{
 "cells": [
  {
   "cell_type": "code",
   "execution_count": 2,
   "id": "d5accd0b",
   "metadata": {},
   "outputs": [],
   "source": [
    "import selenium\n",
    "import pandas as pd\n",
    "from selenium import webdriver\n",
    "import warnings\n",
    "warnings.filterwarnings('ignore')\n",
    "from selenium.common.exceptions import StaleElementReferenceException, NoSuchElementException\n",
    "from selenium.webdriver.common.by import By\n",
    "import time\n",
    "from selenium.webdriver.chrome.service import Service"
   ]
  },
  {
   "cell_type": "code",
   "execution_count": 3,
   "id": "333ea414",
   "metadata": {},
   "outputs": [],
   "source": [
    "drivers = webdriver.Chrome(r\"C:\\Users\\Dell\\Videos\\chromedriver_win32\\chromedriver.exe\")\n",
    "\n",
    "drivers.get('https://www.forbes.com/billionaires/')"
   ]
  },
  {
   "cell_type": "code",
   "execution_count": 36,
   "id": "9c2908f7",
   "metadata": {},
   "outputs": [],
   "source": [
    "Rank1 = []\n",
    "\n",
    "start=0\n",
    "end=13\n",
    "\n",
    "for i in range(start,end):\n",
    "    \n",
    "    rank = drivers.find_elements(By.CLASS_NAME, \"rank\")\n",
    "    \n",
    "    for a in rank:\n",
    "        Rank1.append(a.text)\n",
    "        \n",
    "    button=drivers.find_element(By.XPATH, \"/html/body/div[1]/div[1]/div/div[2]/div[3]/div[2]/div[2]/div[2]/div[27]/div[2]/div[6]/div[1]/button[2]/div\")\n",
    "    \n",
    "    button.click()\n",
    "    \n",
    "    time.sleep(10)\n",
    "    \n",
    "\n",
    "    \n",
    "    "
   ]
  },
  {
   "cell_type": "code",
   "execution_count": 38,
   "id": "ce3a8bc7",
   "metadata": {},
   "outputs": [
    {
     "data": {
      "text/plain": [
       "2613"
      ]
     },
     "execution_count": 38,
     "metadata": {},
     "output_type": "execute_result"
    }
   ],
   "source": [
    "len(Rank1)"
   ]
  },
  {
   "cell_type": "code",
   "execution_count": 9,
   "id": "e1e88edd",
   "metadata": {},
   "outputs": [],
   "source": [
    "Name = []\n",
    "\n",
    "start=0\n",
    "end=13\n",
    "\n",
    "for i in range(start,end):\n",
    "    \n",
    "    name = drivers.find_elements(By.CLASS_NAME, \"personName\")\n",
    "    \n",
    "    for a in name:\n",
    "        Name.append(a.text)\n",
    "        \n",
    "    button=drivers.find_element(By.XPATH, \"/html/body/div[1]/div[1]/div/div[2]/div[3]/div[2]/div[2]/div[2]/div[27]/div[2]/div[6]/div[1]/button[2]/div\")\n",
    "    \n",
    "    button.click()\n",
    "    \n",
    "    time.sleep(10)\n",
    "    \n",
    "\n",
    "    \n",
    "    "
   ]
  },
  {
   "cell_type": "code",
   "execution_count": 25,
   "id": "60d1ecbb",
   "metadata": {},
   "outputs": [
    {
     "data": {
      "text/plain": [
       "2613"
      ]
     },
     "execution_count": 25,
     "metadata": {},
     "output_type": "execute_result"
    }
   ],
   "source": [
    "len(Name)"
   ]
  },
  {
   "cell_type": "code",
   "execution_count": 15,
   "id": "2cebf54c",
   "metadata": {},
   "outputs": [],
   "source": [
    "NetWorth = []\n",
    "\n",
    "start=0\n",
    "end=13\n",
    "\n",
    "for i in range(start,end):\n",
    "    \n",
    "    networth = drivers.find_elements(By.CLASS_NAME, \"netWorth\")\n",
    "    \n",
    "    for a in networth:\n",
    "        NetWorth.append(a.text)\n",
    "        \n",
    "    button=drivers.find_element(By.XPATH, \"/html/body/div[1]/div[1]/div/div[2]/div[3]/div[2]/div[2]/div[2]/div[27]/div[2]/div[6]/div[1]/button[2]/div\")\n",
    "    \n",
    "    button.click()\n",
    "    \n",
    "    time.sleep(10)"
   ]
  },
  {
   "cell_type": "code",
   "execution_count": 27,
   "id": "0fe2bf51",
   "metadata": {},
   "outputs": [
    {
     "data": {
      "text/plain": [
       "2613"
      ]
     },
     "execution_count": 27,
     "metadata": {},
     "output_type": "execute_result"
    }
   ],
   "source": [
    "len(NetWorth)"
   ]
  },
  {
   "cell_type": "code",
   "execution_count": 18,
   "id": "7bd4076e",
   "metadata": {},
   "outputs": [],
   "source": [
    "Age = []\n",
    "\n",
    "start=0\n",
    "end=13\n",
    "\n",
    "for i in range(start,end):\n",
    "    \n",
    "    age = drivers.find_elements(By.CLASS_NAME, \"age\")\n",
    "    \n",
    "    for a in age:\n",
    "        Age.append(a.text)\n",
    "        \n",
    "    button=drivers.find_element(By.XPATH, \"/html/body/div[1]/div[1]/div/div[2]/div[3]/div[2]/div[2]/div[2]/div[27]/div[2]/div[6]/div[1]/button[2]/div\")\n",
    "    \n",
    "    button.click()\n",
    "    \n",
    "    time.sleep(5)"
   ]
  },
  {
   "cell_type": "code",
   "execution_count": 29,
   "id": "677190cf",
   "metadata": {},
   "outputs": [
    {
     "data": {
      "text/plain": [
       "2613"
      ]
     },
     "execution_count": 29,
     "metadata": {},
     "output_type": "execute_result"
    }
   ],
   "source": [
    "len(Age)"
   ]
  },
  {
   "cell_type": "code",
   "execution_count": 19,
   "id": "1119e9b8",
   "metadata": {},
   "outputs": [],
   "source": [
    "Country = []\n",
    "\n",
    "start=0\n",
    "end=13\n",
    "\n",
    "for i in range(start,end):\n",
    "    \n",
    "    country = drivers.find_elements(By.CLASS_NAME, \"countryOfCitizenship\")\n",
    "    \n",
    "    for a in country:\n",
    "        Country.append(a.text)\n",
    "        \n",
    "    button=drivers.find_element(By.XPATH, \"/html/body/div[1]/div[1]/div/div[2]/div[3]/div[2]/div[2]/div[2]/div[27]/div[2]/div[6]/div[1]/button[2]/div\")\n",
    "    \n",
    "    button.click()\n",
    "    \n",
    "    time.sleep(10)"
   ]
  },
  {
   "cell_type": "code",
   "execution_count": 31,
   "id": "3491e7df",
   "metadata": {},
   "outputs": [
    {
     "data": {
      "text/plain": [
       "2613"
      ]
     },
     "execution_count": 31,
     "metadata": {},
     "output_type": "execute_result"
    }
   ],
   "source": [
    "len(Country)"
   ]
  },
  {
   "cell_type": "code",
   "execution_count": 20,
   "id": "01a02704",
   "metadata": {},
   "outputs": [],
   "source": [
    "Source = []\n",
    "\n",
    "start=0\n",
    "end=13\n",
    "\n",
    "for i in range(start,end):\n",
    "    \n",
    "    source = drivers.find_elements(By.CLASS_NAME, \"source\")\n",
    "    \n",
    "    for a in source:\n",
    "        Source.append(a.text)\n",
    "        \n",
    "    button=drivers.find_element(By.XPATH, \"/html/body/div[1]/div[1]/div/div[2]/div[3]/div[2]/div[2]/div[2]/div[27]/div[2]/div[6]/div[1]/button[2]/div\")\n",
    "    \n",
    "    button.click()\n",
    "    \n",
    "    time.sleep(5)"
   ]
  },
  {
   "cell_type": "code",
   "execution_count": 33,
   "id": "ac2949dc",
   "metadata": {},
   "outputs": [
    {
     "data": {
      "text/plain": [
       "2613"
      ]
     },
     "execution_count": 33,
     "metadata": {},
     "output_type": "execute_result"
    }
   ],
   "source": [
    "len(Source)"
   ]
  },
  {
   "cell_type": "code",
   "execution_count": 21,
   "id": "c6fd6df8",
   "metadata": {},
   "outputs": [],
   "source": [
    "Industry = []\n",
    "\n",
    "start=0\n",
    "end=13\n",
    "\n",
    "for i in range(start,end):\n",
    "    \n",
    "    industry = drivers.find_elements(By.CLASS_NAME, \"category\")\n",
    "    \n",
    "    for a in industry:\n",
    "        Industry.append(a.text)\n",
    "        \n",
    "    button=drivers.find_element(By.XPATH, \"/html/body/div[1]/div[1]/div/div[2]/div[3]/div[2]/div[2]/div[2]/div[27]/div[2]/div[6]/div[1]/button[2]/div\")\n",
    "    \n",
    "    button.click()\n",
    "    \n",
    "    time.sleep(5)"
   ]
  },
  {
   "cell_type": "code",
   "execution_count": 35,
   "id": "0fc09584",
   "metadata": {},
   "outputs": [
    {
     "data": {
      "text/plain": [
       "2613"
      ]
     },
     "execution_count": 35,
     "metadata": {},
     "output_type": "execute_result"
    }
   ],
   "source": [
    "len(Industry)"
   ]
  },
  {
   "cell_type": "code",
   "execution_count": 39,
   "id": "ca3c1282",
   "metadata": {},
   "outputs": [],
   "source": [
    "final =pd.DataFrame()\n",
    "\n",
    "final['Rank'] = Rank1\n",
    "final['Name'] = Name\n",
    "\n",
    "final['NetWorth'] = NetWorth\n",
    "final['Age'] = Age\n",
    "final['Country'] = Country\n",
    "final['Source'] = Source\n",
    "final['Industry'] = Industry"
   ]
  },
  {
   "cell_type": "code",
   "execution_count": 40,
   "id": "6740c42e",
   "metadata": {},
   "outputs": [
    {
     "data": {
      "text/html": [
       "<div>\n",
       "<style scoped>\n",
       "    .dataframe tbody tr th:only-of-type {\n",
       "        vertical-align: middle;\n",
       "    }\n",
       "\n",
       "    .dataframe tbody tr th {\n",
       "        vertical-align: top;\n",
       "    }\n",
       "\n",
       "    .dataframe thead th {\n",
       "        text-align: right;\n",
       "    }\n",
       "</style>\n",
       "<table border=\"1\" class=\"dataframe\">\n",
       "  <thead>\n",
       "    <tr style=\"text-align: right;\">\n",
       "      <th></th>\n",
       "      <th>Rank</th>\n",
       "      <th>Name</th>\n",
       "      <th>NetWorth</th>\n",
       "      <th>Age</th>\n",
       "      <th>Country</th>\n",
       "      <th>Source</th>\n",
       "      <th>Industry</th>\n",
       "    </tr>\n",
       "  </thead>\n",
       "  <tbody>\n",
       "    <tr>\n",
       "      <th>0</th>\n",
       "      <td>RANK</td>\n",
       "      <td>NAME</td>\n",
       "      <td>NET WORTH</td>\n",
       "      <td>AGE</td>\n",
       "      <td>COUNTRY / TERRITORY</td>\n",
       "      <td>SOURCE</td>\n",
       "      <td>INDUSTRY</td>\n",
       "    </tr>\n",
       "    <tr>\n",
       "      <th>1</th>\n",
       "      <td>1.</td>\n",
       "      <td>Elon Musk</td>\n",
       "      <td>$219 B</td>\n",
       "      <td>50</td>\n",
       "      <td>United States</td>\n",
       "      <td>Tesla, SpaceX</td>\n",
       "      <td>Automotive</td>\n",
       "    </tr>\n",
       "    <tr>\n",
       "      <th>2</th>\n",
       "      <td>2.</td>\n",
       "      <td>Jeff Bezos</td>\n",
       "      <td>$171 B</td>\n",
       "      <td>58</td>\n",
       "      <td>United States</td>\n",
       "      <td>Amazon</td>\n",
       "      <td>Technology</td>\n",
       "    </tr>\n",
       "    <tr>\n",
       "      <th>3</th>\n",
       "      <td>3.</td>\n",
       "      <td>Bernard Arnault &amp; family</td>\n",
       "      <td>$158 B</td>\n",
       "      <td>73</td>\n",
       "      <td>France</td>\n",
       "      <td>LVMH</td>\n",
       "      <td>Fashion &amp; Retail</td>\n",
       "    </tr>\n",
       "    <tr>\n",
       "      <th>4</th>\n",
       "      <td>4.</td>\n",
       "      <td>Bill Gates</td>\n",
       "      <td>$129 B</td>\n",
       "      <td>66</td>\n",
       "      <td>United States</td>\n",
       "      <td>Microsoft</td>\n",
       "      <td>Technology</td>\n",
       "    </tr>\n",
       "    <tr>\n",
       "      <th>...</th>\n",
       "      <td>...</td>\n",
       "      <td>...</td>\n",
       "      <td>...</td>\n",
       "      <td>...</td>\n",
       "      <td>...</td>\n",
       "      <td>...</td>\n",
       "      <td>...</td>\n",
       "    </tr>\n",
       "    <tr>\n",
       "      <th>2608</th>\n",
       "      <td>2578.</td>\n",
       "      <td>Jorge Gallardo Ballart</td>\n",
       "      <td>$1 B</td>\n",
       "      <td>80</td>\n",
       "      <td>Spain</td>\n",
       "      <td>pharmaceuticals</td>\n",
       "      <td>Healthcare</td>\n",
       "    </tr>\n",
       "    <tr>\n",
       "      <th>2609</th>\n",
       "      <td>2578.</td>\n",
       "      <td>Nari Genomal</td>\n",
       "      <td>$1 B</td>\n",
       "      <td>82</td>\n",
       "      <td>Cyprus</td>\n",
       "      <td>apparel</td>\n",
       "      <td>Fashion &amp; Retail</td>\n",
       "    </tr>\n",
       "    <tr>\n",
       "      <th>2610</th>\n",
       "      <td>2578.</td>\n",
       "      <td>Ramesh Genomal</td>\n",
       "      <td>$1 B</td>\n",
       "      <td>71</td>\n",
       "      <td>Cyprus</td>\n",
       "      <td>apparel</td>\n",
       "      <td>Fashion &amp; Retail</td>\n",
       "    </tr>\n",
       "    <tr>\n",
       "      <th>2611</th>\n",
       "      <td>2578.</td>\n",
       "      <td>Sunder Genomal</td>\n",
       "      <td>$1 B</td>\n",
       "      <td>68</td>\n",
       "      <td>United Kingdom</td>\n",
       "      <td>garments</td>\n",
       "      <td>Fashion &amp; Retail</td>\n",
       "    </tr>\n",
       "    <tr>\n",
       "      <th>2612</th>\n",
       "      <td>2578.</td>\n",
       "      <td>Horst-Otto Gerberding</td>\n",
       "      <td>$1 B</td>\n",
       "      <td>69</td>\n",
       "      <td>Germany</td>\n",
       "      <td>flavors and fragrances</td>\n",
       "      <td>Food &amp; Beverage</td>\n",
       "    </tr>\n",
       "  </tbody>\n",
       "</table>\n",
       "<p>2613 rows × 7 columns</p>\n",
       "</div>"
      ],
      "text/plain": [
       "       Rank                      Name   NetWorth  Age              Country  \\\n",
       "0      RANK                      NAME  NET WORTH  AGE  COUNTRY / TERRITORY   \n",
       "1        1.                 Elon Musk     $219 B   50        United States   \n",
       "2        2.                Jeff Bezos     $171 B   58        United States   \n",
       "3        3.  Bernard Arnault & family     $158 B   73               France   \n",
       "4        4.                Bill Gates     $129 B   66        United States   \n",
       "...     ...                       ...        ...  ...                  ...   \n",
       "2608  2578.    Jorge Gallardo Ballart       $1 B   80                Spain   \n",
       "2609  2578.              Nari Genomal       $1 B   82               Cyprus   \n",
       "2610  2578.            Ramesh Genomal       $1 B   71               Cyprus   \n",
       "2611  2578.            Sunder Genomal       $1 B   68       United Kingdom   \n",
       "2612  2578.     Horst-Otto Gerberding       $1 B   69              Germany   \n",
       "\n",
       "                      Source          Industry  \n",
       "0                     SOURCE          INDUSTRY  \n",
       "1              Tesla, SpaceX        Automotive  \n",
       "2                     Amazon        Technology  \n",
       "3                       LVMH  Fashion & Retail  \n",
       "4                  Microsoft        Technology  \n",
       "...                      ...               ...  \n",
       "2608         pharmaceuticals        Healthcare  \n",
       "2609                 apparel  Fashion & Retail  \n",
       "2610                 apparel  Fashion & Retail  \n",
       "2611                garments  Fashion & Retail  \n",
       "2612  flavors and fragrances   Food & Beverage  \n",
       "\n",
       "[2613 rows x 7 columns]"
      ]
     },
     "execution_count": 40,
     "metadata": {},
     "output_type": "execute_result"
    }
   ],
   "source": [
    "final"
   ]
  },
  {
   "cell_type": "code",
   "execution_count": 43,
   "id": "eb798ee6",
   "metadata": {},
   "outputs": [],
   "source": [
    "final2=final.drop([0], axis=0)"
   ]
  },
  {
   "cell_type": "code",
   "execution_count": 44,
   "id": "c0b6530c",
   "metadata": {},
   "outputs": [
    {
     "data": {
      "text/html": [
       "<div>\n",
       "<style scoped>\n",
       "    .dataframe tbody tr th:only-of-type {\n",
       "        vertical-align: middle;\n",
       "    }\n",
       "\n",
       "    .dataframe tbody tr th {\n",
       "        vertical-align: top;\n",
       "    }\n",
       "\n",
       "    .dataframe thead th {\n",
       "        text-align: right;\n",
       "    }\n",
       "</style>\n",
       "<table border=\"1\" class=\"dataframe\">\n",
       "  <thead>\n",
       "    <tr style=\"text-align: right;\">\n",
       "      <th></th>\n",
       "      <th>Rank</th>\n",
       "      <th>Name</th>\n",
       "      <th>NetWorth</th>\n",
       "      <th>Age</th>\n",
       "      <th>Country</th>\n",
       "      <th>Source</th>\n",
       "      <th>Industry</th>\n",
       "    </tr>\n",
       "  </thead>\n",
       "  <tbody>\n",
       "    <tr>\n",
       "      <th>1</th>\n",
       "      <td>1.</td>\n",
       "      <td>Elon Musk</td>\n",
       "      <td>$219 B</td>\n",
       "      <td>50</td>\n",
       "      <td>United States</td>\n",
       "      <td>Tesla, SpaceX</td>\n",
       "      <td>Automotive</td>\n",
       "    </tr>\n",
       "    <tr>\n",
       "      <th>2</th>\n",
       "      <td>2.</td>\n",
       "      <td>Jeff Bezos</td>\n",
       "      <td>$171 B</td>\n",
       "      <td>58</td>\n",
       "      <td>United States</td>\n",
       "      <td>Amazon</td>\n",
       "      <td>Technology</td>\n",
       "    </tr>\n",
       "    <tr>\n",
       "      <th>3</th>\n",
       "      <td>3.</td>\n",
       "      <td>Bernard Arnault &amp; family</td>\n",
       "      <td>$158 B</td>\n",
       "      <td>73</td>\n",
       "      <td>France</td>\n",
       "      <td>LVMH</td>\n",
       "      <td>Fashion &amp; Retail</td>\n",
       "    </tr>\n",
       "    <tr>\n",
       "      <th>4</th>\n",
       "      <td>4.</td>\n",
       "      <td>Bill Gates</td>\n",
       "      <td>$129 B</td>\n",
       "      <td>66</td>\n",
       "      <td>United States</td>\n",
       "      <td>Microsoft</td>\n",
       "      <td>Technology</td>\n",
       "    </tr>\n",
       "    <tr>\n",
       "      <th>5</th>\n",
       "      <td>5.</td>\n",
       "      <td>Warren Buffett</td>\n",
       "      <td>$118 B</td>\n",
       "      <td>91</td>\n",
       "      <td>United States</td>\n",
       "      <td>Berkshire Hathaway</td>\n",
       "      <td>Finance &amp; Investments</td>\n",
       "    </tr>\n",
       "    <tr>\n",
       "      <th>...</th>\n",
       "      <td>...</td>\n",
       "      <td>...</td>\n",
       "      <td>...</td>\n",
       "      <td>...</td>\n",
       "      <td>...</td>\n",
       "      <td>...</td>\n",
       "      <td>...</td>\n",
       "    </tr>\n",
       "    <tr>\n",
       "      <th>2608</th>\n",
       "      <td>2578.</td>\n",
       "      <td>Jorge Gallardo Ballart</td>\n",
       "      <td>$1 B</td>\n",
       "      <td>80</td>\n",
       "      <td>Spain</td>\n",
       "      <td>pharmaceuticals</td>\n",
       "      <td>Healthcare</td>\n",
       "    </tr>\n",
       "    <tr>\n",
       "      <th>2609</th>\n",
       "      <td>2578.</td>\n",
       "      <td>Nari Genomal</td>\n",
       "      <td>$1 B</td>\n",
       "      <td>82</td>\n",
       "      <td>Cyprus</td>\n",
       "      <td>apparel</td>\n",
       "      <td>Fashion &amp; Retail</td>\n",
       "    </tr>\n",
       "    <tr>\n",
       "      <th>2610</th>\n",
       "      <td>2578.</td>\n",
       "      <td>Ramesh Genomal</td>\n",
       "      <td>$1 B</td>\n",
       "      <td>71</td>\n",
       "      <td>Cyprus</td>\n",
       "      <td>apparel</td>\n",
       "      <td>Fashion &amp; Retail</td>\n",
       "    </tr>\n",
       "    <tr>\n",
       "      <th>2611</th>\n",
       "      <td>2578.</td>\n",
       "      <td>Sunder Genomal</td>\n",
       "      <td>$1 B</td>\n",
       "      <td>68</td>\n",
       "      <td>United Kingdom</td>\n",
       "      <td>garments</td>\n",
       "      <td>Fashion &amp; Retail</td>\n",
       "    </tr>\n",
       "    <tr>\n",
       "      <th>2612</th>\n",
       "      <td>2578.</td>\n",
       "      <td>Horst-Otto Gerberding</td>\n",
       "      <td>$1 B</td>\n",
       "      <td>69</td>\n",
       "      <td>Germany</td>\n",
       "      <td>flavors and fragrances</td>\n",
       "      <td>Food &amp; Beverage</td>\n",
       "    </tr>\n",
       "  </tbody>\n",
       "</table>\n",
       "<p>2612 rows × 7 columns</p>\n",
       "</div>"
      ],
      "text/plain": [
       "       Rank                      Name NetWorth Age         Country  \\\n",
       "1        1.                 Elon Musk   $219 B  50   United States   \n",
       "2        2.                Jeff Bezos   $171 B  58   United States   \n",
       "3        3.  Bernard Arnault & family   $158 B  73          France   \n",
       "4        4.                Bill Gates   $129 B  66   United States   \n",
       "5        5.            Warren Buffett   $118 B  91   United States   \n",
       "...     ...                       ...      ...  ..             ...   \n",
       "2608  2578.    Jorge Gallardo Ballart     $1 B  80           Spain   \n",
       "2609  2578.              Nari Genomal     $1 B  82          Cyprus   \n",
       "2610  2578.            Ramesh Genomal     $1 B  71          Cyprus   \n",
       "2611  2578.            Sunder Genomal     $1 B  68  United Kingdom   \n",
       "2612  2578.     Horst-Otto Gerberding     $1 B  69         Germany   \n",
       "\n",
       "                      Source               Industry  \n",
       "1              Tesla, SpaceX             Automotive  \n",
       "2                     Amazon             Technology  \n",
       "3                       LVMH       Fashion & Retail  \n",
       "4                  Microsoft             Technology  \n",
       "5         Berkshire Hathaway  Finance & Investments  \n",
       "...                      ...                    ...  \n",
       "2608         pharmaceuticals             Healthcare  \n",
       "2609                 apparel       Fashion & Retail  \n",
       "2610                 apparel       Fashion & Retail  \n",
       "2611                garments       Fashion & Retail  \n",
       "2612  flavors and fragrances        Food & Beverage  \n",
       "\n",
       "[2612 rows x 7 columns]"
      ]
     },
     "execution_count": 44,
     "metadata": {},
     "output_type": "execute_result"
    }
   ],
   "source": [
    "final2"
   ]
  },
  {
   "cell_type": "code",
   "execution_count": null,
   "id": "0b20be44",
   "metadata": {},
   "outputs": [],
   "source": []
  }
 ],
 "metadata": {
  "kernelspec": {
   "display_name": "Python 3 (ipykernel)",
   "language": "python",
   "name": "python3"
  },
  "language_info": {
   "codemirror_mode": {
    "name": "ipython",
    "version": 3
   },
   "file_extension": ".py",
   "mimetype": "text/x-python",
   "name": "python",
   "nbconvert_exporter": "python",
   "pygments_lexer": "ipython3",
   "version": "3.9.13"
  }
 },
 "nbformat": 4,
 "nbformat_minor": 5
}
