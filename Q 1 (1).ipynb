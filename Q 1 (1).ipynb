{
 "cells": [
  {
   "cell_type": "code",
   "execution_count": 5,
   "id": "749001fb",
   "metadata": {},
   "outputs": [],
   "source": [
    "import selenium\n",
    "import pandas as pd\n",
    "from selenium import webdriver\n",
    "import warnings\n",
    "warnings.filterwarnings('ignore')\n",
    "from selenium.common.exceptions import StaleElementReferenceException, NoSuchElementException\n",
    "from selenium.webdriver.common.by import By\n",
    "import time\n",
    "from selenium.webdriver.chrome.service import Service"
   ]
  },
  {
   "cell_type": "code",
   "execution_count": 6,
   "id": "962119f3",
   "metadata": {},
   "outputs": [
    {
     "name": "stdout",
     "output_type": "stream",
     "text": [
      "Enter input : MOBILE PHONE\n"
     ]
    }
   ],
   "source": [
    "drivers = webdriver.Chrome(r\"C:\\Users\\Dell\\Videos\\chromedriver_win32\\chromedriver.exe\")\n",
    "\n",
    "drivers.get('https://www.amazon.com/')\n",
    "\n",
    "\n",
    "Result = []\n",
    "\n",
    "result = drivers.find_element(By.ID, \"twotabsearchtextbox\")\n",
    "result.send_keys(input('Enter input : '))\n",
    "\n",
    "# search button \n",
    "\n",
    "button = drivers.find_element(By.ID, \"nav-search-submit-button\")\n",
    "button.click()"
   ]
  },
  {
   "cell_type": "code",
   "execution_count": null,
   "id": "70579661",
   "metadata": {},
   "outputs": [],
   "source": []
  },
  {
   "cell_type": "code",
   "execution_count": null,
   "id": "64b19eeb",
   "metadata": {},
   "outputs": [],
   "source": []
  },
  {
   "cell_type": "code",
   "execution_count": null,
   "id": "1c677e4b",
   "metadata": {},
   "outputs": [],
   "source": [
    "\\"
   ]
  }
 ],
 "metadata": {
  "kernelspec": {
   "display_name": "Python 3 (ipykernel)",
   "language": "python",
   "name": "python3"
  },
  "language_info": {
   "codemirror_mode": {
    "name": "ipython",
    "version": 3
   },
   "file_extension": ".py",
   "mimetype": "text/x-python",
   "name": "python",
   "nbconvert_exporter": "python",
   "pygments_lexer": "ipython3",
   "version": "3.9.13"
  }
 },
 "nbformat": 4,
 "nbformat_minor": 5
}
